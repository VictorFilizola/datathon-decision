{
 "cells": [
  {
   "cell_type": "code",
   "execution_count": null,
   "id": "f2f2ff0f",
   "metadata": {},
   "outputs": [
    {
     "name": "stdout",
     "output_type": "stream",
     "text": [
      "Dict with 246 keys\n"
     ]
    },
    {
     "ename": "",
     "evalue": "",
     "output_type": "error",
     "traceback": [
      "\u001b[1;31mThe Kernel crashed while executing code in the current cell or a previous cell. \n",
      "\u001b[1;31mPlease review the code in the cell(s) to identify a possible cause of the failure. \n",
      "\u001b[1;31mClick <a href='https://aka.ms/vscodeJupyterKernelCrash'>here</a> for more info. \n",
      "\u001b[1;31mView Jupyter <a href='command:jupyter.viewOutput'>log</a> for further details."
     ]
    }
   ],
   "source": [
    "import json\n",
    "from tkinter import Tk, filedialog\n",
    "\n",
    "# Hide the main Tk window\n",
    "root = Tk()\n",
    "root.withdraw()\n",
    "\n",
    "# Open file dialog to select a JSON file\n",
    "file_path = filedialog.askopenfilename(\n",
    "    title=\"Select a JSON file\",\n",
    "    filetypes=[(\"JSON files\", \"*.json\"), (\"All files\", \"*.*\")]\n",
    ")\n",
    "\n",
    "if file_path:\n",
    "    with open(file_path, 'r', encoding='utf-8') as f:\n",
    "        data = json.load(f)\n",
    "    if isinstance(data, list):\n",
    "        print(f\"List with {len(data)} items\")\n",
    "    elif isinstance(data, dict):\n",
    "        print(f\"Dict with {len(data.keys())} keys\")\n",
    "    else:\n",
    "        print(\"Unsupported JSON structure\")\n",
    "else:\n",
    "    print(\"No file selected\")"
   ]
  },
  {
   "cell_type": "markdown",
   "id": "84bc1da7",
   "metadata": {},
   "source": [
    "Dados gerados por LLM: 1335\n",
    "\n",
    "Dados totais: "
   ]
  }
 ],
 "metadata": {
  "kernelspec": {
   "display_name": "Python 3",
   "language": "python",
   "name": "python3"
  },
  "language_info": {
   "codemirror_mode": {
    "name": "ipython",
    "version": 3
   },
   "file_extension": ".py",
   "mimetype": "text/x-python",
   "name": "python",
   "nbconvert_exporter": "python",
   "pygments_lexer": "ipython3",
   "version": "3.13.3"
  }
 },
 "nbformat": 4,
 "nbformat_minor": 5
}
